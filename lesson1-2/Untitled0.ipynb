{
  "nbformat": 4,
  "nbformat_minor": 0,
  "metadata": {
    "colab": {
      "provenance": [],
      "include_colab_link": true
    },
    "kernelspec": {
      "name": "python3",
      "display_name": "Python 3"
    },
    "language_info": {
      "name": "python"
    }
  },
  "cells": [
    {
      "cell_type": "markdown",
      "metadata": {
        "id": "view-in-github",
        "colab_type": "text"
      },
      "source": [
        "<a href=\"https://colab.research.google.com/github/Wei-Hsuan5/public0503/blob/main/lesson1-2/Untitled0.ipynb\" target=\"_parent\"><img src=\"https://colab.research.google.com/assets/colab-badge.svg\" alt=\"Open In Colab\"/></a>"
      ]
    },
    {
      "cell_type": "code",
      "execution_count": null,
      "metadata": {
        "colab": {
          "base_uri": "https://localhost:8080/"
        },
        "id": "fwr6LVhZL491",
        "outputId": "6c896adb-5d66-497d-dd1b-ba13efc49a24"
      },
      "outputs": [
        {
          "output_type": "stream",
          "name": "stdout",
          "text": [
            "肯掐拿！叮叮叮叮叮\n"
          ]
        }
      ],
      "source": [
        "print(\"肯掐拿！叮叮叮叮叮\")"
      ]
    },
    {
      "cell_type": "code",
      "source": [
        "100//10"
      ],
      "metadata": {
        "colab": {
          "base_uri": "https://localhost:8080/"
        },
        "id": "r2ToXybDQmTE",
        "outputId": "e75b714f-7638-4c32-901f-37d72f286cae"
      },
      "execution_count": null,
      "outputs": [
        {
          "output_type": "execute_result",
          "data": {
            "text/plain": [
              "10"
            ]
          },
          "metadata": {},
          "execution_count": 4
        }
      ]
    },
    {
      "cell_type": "markdown",
      "source": [
        "##**敘述式: 生成變數n，不會傳出值**"
      ],
      "metadata": {
        "id": "K_x-dmanx5fk"
      }
    },
    {
      "cell_type": "code",
      "source": [
        "n=2*(1+2)**2-2**2*2\n",
        "n=n*10\n",
        "n"
      ],
      "metadata": {
        "id": "AxdgI1WdxDqh",
        "colab": {
          "base_uri": "https://localhost:8080/"
        },
        "outputId": "b3e1fb57-1ee8-45e7-f2c8-dd7d0b82841f"
      },
      "execution_count": null,
      "outputs": [
        {
          "output_type": "execute_result",
          "data": {
            "text/plain": [
              "100"
            ]
          },
          "metadata": {},
          "execution_count": 3
        }
      ]
    },
    {
      "cell_type": "markdown",
      "source": [
        "####**複合指定運算子(*=)**"
      ],
      "metadata": {
        "id": "tofdxJ8y3Qbe"
      }
    },
    {
      "cell_type": "code",
      "source": [
        "n=2*(1+2)**2-2**2*2\n",
        "n*=10\n",
        "n"
      ],
      "metadata": {
        "colab": {
          "base_uri": "https://localhost:8080/"
        },
        "id": "6XVNvTjD1Avg",
        "outputId": "eb986661-0aa5-403d-e666-90eddf607cd7"
      },
      "execution_count": null,
      "outputs": [
        {
          "output_type": "execute_result",
          "data": {
            "text/plain": [
              "100"
            ]
          },
          "metadata": {},
          "execution_count": 1
        }
      ]
    },
    {
      "cell_type": "markdown",
      "source": [
        "###**Input()使用**"
      ],
      "metadata": {
        "id": "gP-esTnC8kFX"
      }
    },
    {
      "cell_type": "code",
      "source": [
        "name=input(\"請輸入領取人姓名:\")\n",
        "print(\"領取人姓名:\",name)"
      ],
      "metadata": {
        "colab": {
          "base_uri": "https://localhost:8080/"
        },
        "id": "cTQKHBGI8iP_",
        "outputId": "a89638f7-8ac7-41ed-9a09-f9622b933415"
      },
      "execution_count": null,
      "outputs": [
        {
          "output_type": "stream",
          "name": "stdout",
          "text": [
            "請輸入領取人姓名:林小美\n",
            "領取人姓名: 林小美\n"
          ]
        }
      ]
    },
    {
      "cell_type": "markdown",
      "source": [
        "###**動態型別**"
      ],
      "metadata": {
        "id": "4ugFvAEACC1t"
      }
    },
    {
      "cell_type": "code",
      "source": [
        "name=input(\"請輸入領取人姓名:\")\n",
        "type(name)\n",
        "name=100\n",
        "type(name)\n",
        "name=100.0\n",
        "type(name)"
      ],
      "metadata": {
        "colab": {
          "base_uri": "https://localhost:8080/"
        },
        "id": "-Mlis8Q-D-Ei",
        "outputId": "8c86e5e1-3490-4f7f-e6b2-4999acb3bcc2"
      },
      "execution_count": null,
      "outputs": [
        {
          "name": "stdout",
          "output_type": "stream",
          "text": [
            "請輸入領取人姓名:小美\n"
          ]
        },
        {
          "output_type": "execute_result",
          "data": {
            "text/plain": [
              "float"
            ]
          },
          "metadata": {},
          "execution_count": 9
        }
      ]
    },
    {
      "cell_type": "markdown",
      "source": [
        "###**數值與字串無法數學運算；字串可相加/乘**"
      ],
      "metadata": {
        "id": "R-FspemkGzQi"
      }
    },
    {
      "cell_type": "code",
      "source": [
        "\"2\"+\"2\"\n",
        "\"=\"*10"
      ],
      "metadata": {
        "colab": {
          "base_uri": "https://localhost:8080/",
          "height": 36
        },
        "id": "a4fGT8FME6UP",
        "outputId": "5eb5bc0c-d41c-4a25-80d5-1ed0b4f731cc"
      },
      "execution_count": null,
      "outputs": [
        {
          "output_type": "execute_result",
          "data": {
            "text/plain": [
              "'=========='"
            ],
            "application/vnd.google.colaboratory.intrinsic+json": {
              "type": "string"
            }
          },
          "metadata": {},
          "execution_count": 10
        }
      ]
    },
    {
      "cell_type": "markdown",
      "source": [
        "###**使用內建function 暫時轉換型別**"
      ],
      "metadata": {
        "id": "kCLrOHXfHNEL"
      }
    },
    {
      "cell_type": "code",
      "source": [
        "5+float(\"5\")\n",
        "5+5.0"
      ],
      "metadata": {
        "colab": {
          "base_uri": "https://localhost:8080/"
        },
        "id": "h_3gh7EkHXNu",
        "outputId": "870b250e-f813-423e-9821-8f319638ffd6"
      },
      "execution_count": null,
      "outputs": [
        {
          "output_type": "execute_result",
          "data": {
            "text/plain": [
              "10.0"
            ]
          },
          "metadata": {},
          "execution_count": 11
        }
      ]
    },
    {
      "cell_type": "code",
      "source": [
        "width=input(\"輸入矩形的寬:\")\n",
        "width"
      ],
      "metadata": {
        "colab": {
          "base_uri": "https://localhost:8080/",
          "height": 55
        },
        "id": "VRvkv-eeHoXV",
        "outputId": "31576439-9d92-4d6c-fcd1-a20cfea15287"
      },
      "execution_count": null,
      "outputs": [
        {
          "name": "stdout",
          "output_type": "stream",
          "text": [
            "輸入矩形的寬:55\n"
          ]
        },
        {
          "output_type": "execute_result",
          "data": {
            "text/plain": [
              "'55'"
            ],
            "application/vnd.google.colaboratory.intrinsic+json": {
              "type": "string"
            }
          },
          "metadata": {},
          "execution_count": 12
        }
      ]
    },
    {
      "cell_type": "code",
      "source": [
        "width=float(input(\"輸入矩形的寬:\"))\n",
        "height=float(input(\"輸入矩形的寬:\"))\n",
        "area=width*height\n",
        "print(\"矩形面積:\", area)"
      ],
      "metadata": {
        "colab": {
          "base_uri": "https://localhost:8080/"
        },
        "id": "uO2NMAenIFB2",
        "outputId": "5fa85d6f-170e-4939-d9f6-6b684359cb62"
      },
      "execution_count": null,
      "outputs": [
        {
          "output_type": "stream",
          "name": "stdout",
          "text": [
            "輸入矩形的寬:1.3214\n",
            "輸入矩形的寬:4.2633\n",
            "矩形面積: 5.633524619999999\n"
          ]
        }
      ]
    },
    {
      "cell_type": "markdown",
      "source": [
        "###**開根號方式 Sqrt**"
      ],
      "metadata": {
        "id": "rJo4nOylNhtn"
      }
    },
    {
      "cell_type": "code",
      "source": [
        "import math\n",
        "side=float(input(\"輸入對邊:\"))\n",
        "side2=float(input(\"輸入鄰邊:\"))\n",
        "answer=math.sqrt(side**2+side2**2)\n",
        "print(\"斜邊:\", answer)"
      ],
      "metadata": {
        "id": "PKgeMOnvMazj",
        "outputId": "0979b416-3e23-4a88-d336-5608dc97b80f",
        "colab": {
          "base_uri": "https://localhost:8080/"
        }
      },
      "execution_count": null,
      "outputs": [
        {
          "output_type": "stream",
          "name": "stdout",
          "text": [
            "輸入對邊:20\n",
            "輸入鄰邊:50\n",
            "斜邊: 53.85164807134504\n"
          ]
        }
      ]
    },
    {
      "cell_type": "markdown",
      "source": [
        "###**溫習題**\n",
        "Q: 如何在輸入10 與2兩數值後，可自動計算兩數值加減乘除、合併?"
      ],
      "metadata": {
        "id": "DwC5C_CZOYZm"
      }
    },
    {
      "cell_type": "code",
      "source": [
        "A=int(input(\"數值1:\"))\n",
        "B=int(input(\"數值2:\"))\n",
        "\n",
        "print(\"值:\", A+B)\n",
        "print(\"值:\", A-B)\n",
        "print(\"值:\", A*B)\n",
        "print(\"值:\", A//+B)\n",
        "print(\"值:\", str(A)+str(B))"
      ],
      "metadata": {
        "id": "pB2AnDU0OilW",
        "outputId": "18395e5c-5d3f-4aed-f458-c1a307726a6f",
        "colab": {
          "base_uri": "https://localhost:8080/"
        }
      },
      "execution_count": 1,
      "outputs": [
        {
          "output_type": "stream",
          "name": "stdout",
          "text": [
            "數值1:20\n",
            "數值2:4\n",
            "值: 24\n",
            "值: 16\n",
            "值: 80\n",
            "值: 5\n",
            "值: 204\n"
          ]
        }
      ]
    }
  ]
}