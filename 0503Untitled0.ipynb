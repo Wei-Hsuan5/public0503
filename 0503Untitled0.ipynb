{
  "nbformat": 4,
  "nbformat_minor": 0,
  "metadata": {
    "colab": {
      "provenance": [],
      "include_colab_link": true
    },
    "kernelspec": {
      "name": "python3",
      "display_name": "Python 3"
    },
    "language_info": {
      "name": "python"
    }
  },
  "cells": [
    {
      "cell_type": "markdown",
      "metadata": {
        "id": "view-in-github",
        "colab_type": "text"
      },
      "source": [
        "<a href=\"https://colab.research.google.com/github/Wei-Hsuan5/public0503/blob/main/0503Untitled0.ipynb\" target=\"_parent\"><img src=\"https://colab.research.google.com/assets/colab-badge.svg\" alt=\"Open In Colab\"/></a>"
      ]
    },
    {
      "cell_type": "markdown",
      "source": [
        "#**Markdown語法**\n",
        "\n",
        "#大標\n",
        "##大標2\n",
        "\n",
        "*斜體字*\n",
        "\n",
        "**粗體字**\n",
        "\n",
        "***斜體兼粗體***\n",
        "\n",
        "~~刪除線~~\n",
        "\n",
        "_斜體2_\n",
        "\n",
        "__斜粗2__\n",
        "\n",
        "正常^上標^\n",
        "\n",
        "正常~下標~\n",
        "\n",
        "++底線++\n",
        "\n",
        "==螢光標記==\n",
        "\n",
        "##**-引文-**\n",
        ">縮排語法\n",
        ">第一層\n",
        ">>第二層\n",
        ">>>第三層\n",
        "\n",
        "\n",
        "##**-標號-**\n",
        "1. 數字1.\n",
        "\n",
        "2. 數字標號\n",
        "3. 數字標號\n",
        "- 其他標號\n",
        "+ 其他標號\n",
        "* 其他標號\n"
      ],
      "metadata": {
        "id": "C6O2uvSzNll_"
      }
    },
    {
      "cell_type": "code",
      "execution_count": null,
      "metadata": {
        "colab": {
          "base_uri": "https://localhost:8080/"
        },
        "id": "fwr6LVhZL491",
        "outputId": "6c896adb-5d66-497d-dd1b-ba13efc49a24"
      },
      "outputs": [
        {
          "output_type": "stream",
          "name": "stdout",
          "text": [
            "肯掐拿！叮叮叮叮叮\n"
          ]
        }
      ],
      "source": [
        "print(\"肯掐拿！叮叮叮叮叮\")"
      ]
    },
    {
      "cell_type": "code",
      "source": [
        "100//10"
      ],
      "metadata": {
        "id": "r2ToXybDQmTE",
        "outputId": "e75b714f-7638-4c32-901f-37d72f286cae",
        "colab": {
          "base_uri": "https://localhost:8080/"
        }
      },
      "execution_count": 4,
      "outputs": [
        {
          "output_type": "execute_result",
          "data": {
            "text/plain": [
              "10"
            ]
          },
          "metadata": {},
          "execution_count": 4
        }
      ]
    },
    {
      "cell_type": "code",
      "source": [
        "2*(1+2)**2-2**2*2"
      ],
      "metadata": {
        "id": "7TUNnpTruVus",
        "outputId": "b12e5ac6-1b1c-47eb-892e-b3bd0f8f83fa",
        "colab": {
          "base_uri": "https://localhost:8080/"
        }
      },
      "execution_count": 5,
      "outputs": [
        {
          "output_type": "execute_result",
          "data": {
            "text/plain": [
              "10"
            ]
          },
          "metadata": {},
          "execution_count": 5
        }
      ]
    }
  ]
}